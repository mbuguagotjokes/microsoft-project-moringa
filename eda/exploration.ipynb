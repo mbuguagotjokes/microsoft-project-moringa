{
 "cells": [
  {
   "cell_type": "markdown",
   "id": "9decb47f",
   "metadata": {},
   "source": [
    "# Exploration\n",
    "This notebook is divided into two parts, **exploration** and **analysis** in which we clean and analyse the data indepth inorder to give a clear recomendation\n",
    "\n",
    "---"
   ]
  },
  {
   "cell_type": "code",
   "execution_count": null,
   "id": "32be7c42",
   "metadata": {},
   "outputs": [],
   "source": [
    "import pandas as pd\n",
    "import matplotlib.pyplot as plt\n",
    "import numpy as np\n",
    "import seaborn as sns\n",
    "\n",
    "import sqlite3\n",
    "conn = sqlite3.connect('data/im.db')\n",
    "\n",
    "pd.options.display.float_format = '{:,.0f}'.format"
   ]
  },
  {
   "cell_type": "markdown",
   "id": "319670b8",
   "metadata": {},
   "source": [
    "# 1. Data Exploration and Cleaning"
   ]
  },
  {
   "cell_type": "markdown",
   "id": "2dbeff9b",
   "metadata": {},
   "source": [
    "These three are per the datasets descibed in analysis.ipymb and note that we use sqlite to open im.db as it is a sqlite3 db"
   ]
  },
  {
   "cell_type": "code",
   "execution_count": null,
   "id": "553de06d",
   "metadata": {},
   "outputs": [],
   "source": [
    "# get data\n",
    "imdb_basics = pd.read_sql_query('SELECT * FROM movie_basics', conn)\n",
    "imdb_ratings = pd.read_sql_query('SELECT * FROM movie_ratings', conn)\n",
    "bom_movies_gross = pd.read_csv('data/bom.movie_gross.csv')"
   ]
  },
  {
   "cell_type": "markdown",
   "id": "29c080c8",
   "metadata": {},
   "source": [
    "To get a better sense of what is in this dataset, we will have to go back to analysis.ipynb under the business problem, and we see that this is a company that has no idea of what this industry is about. With that, it's safe to say we need data that is full, which describes each film well, and that is the whole point of this section. We look at each dataframe individually and ask ourselves what this dataset has to offer that the others don't. So, what I have opted to do is to take pieces from each dataset, then combine them into one complete, somewhat clean dataframe that will give us a better sense of what we are to work with."
   ]
  },
  {
   "cell_type": "markdown",
   "id": "76067fb1",
   "metadata": {},
   "source": [
    "## 1. Cleaning 'imdb_basics'"
   ]
  },
  {
   "cell_type": "code",
   "execution_count": null,
   "id": "ee430a13",
   "metadata": {},
   "outputs": [],
   "source": [
    "imdb_basics.info()"
   ]
  },
  {
   "cell_type": "code",
   "execution_count": null,
   "id": "a210f636",
   "metadata": {},
   "outputs": [],
   "source": [
    "imdb_basics.head()"
   ]
  },
  {
   "cell_type": "markdown",
   "id": "c95b49a7",
   "metadata": {},
   "source": [
    "---\n",
    "From this we can already see that 'primary_title' and 'original_title' differ, and with that we will opt to use 'primary_title' from here on out. To get a better sense of what I am saying, you can look at the cell below.\n",
    "\n",
    "---"
   ]
  },
  {
   "cell_type": "code",
   "execution_count": null,
   "id": "c83b888e",
   "metadata": {},
   "outputs": [],
   "source": [
    "imdb_basics[imdb_basics['primary_title'] != imdb_basics['original_title']]"
   ]
  },
  {
   "cell_type": "code",
   "execution_count": null,
   "id": "5556cd32",
   "metadata": {},
   "outputs": [],
   "source": [
    "# drop 'original_title'\n",
    "\n",
    "imdb_basics = imdb_basics.drop('original_title', axis=1)"
   ]
  },
  {
   "cell_type": "code",
   "execution_count": null,
   "id": "50647ac5",
   "metadata": {},
   "outputs": [],
   "source": [
    "\n",
    "imdb_basics.head()"
   ]
  },
  {
   "cell_type": "markdown",
   "id": "ce18fdf8",
   "metadata": {},
   "source": [
    "---\n",
    "filling in missing values using the median inorder to maintain centrality of the data\n",
    "\n",
    "---"
   ]
  },
  {
   "cell_type": "code",
   "execution_count": null,
   "id": "88237ec1",
   "metadata": {},
   "outputs": [],
   "source": [
    "median_runtime = imdb_basics['runtime_minutes'].median()\n",
    "imdb_basics['runtime_minutes'] = imdb_basics['runtime_minutes'].fillna(median_runtime)\n",
    "imdb_basics['genres'] = imdb_basics['genres'].fillna('Unknown')\n",
    "imdb_basics.info()"
   ]
  },
  {
   "cell_type": "markdown",
   "id": "1e092ffd",
   "metadata": {},
   "source": [
    "## 2. Cleaning 'imdb_ratings'"
   ]
  },
  {
   "cell_type": "code",
   "execution_count": null,
   "id": "81110114",
   "metadata": {},
   "outputs": [],
   "source": [
    "# ratings\n",
    "imdb_ratings.info()"
   ]
  },
  {
   "cell_type": "code",
   "execution_count": null,
   "id": "19781031",
   "metadata": {},
   "outputs": [],
   "source": [
    "imdb_ratings.head()"
   ]
  },
  {
   "cell_type": "markdown",
   "id": "cda67115",
   "metadata": {},
   "source": [
    "---\n",
    "From the cells above you can see no cleaning was nessesary so no action was taken.\n",
    "\n",
    "---"
   ]
  },
  {
   "cell_type": "markdown",
   "id": "75c66875",
   "metadata": {},
   "source": [
    "## 3. Cleaning 'bom_movies_gross'"
   ]
  },
  {
   "cell_type": "code",
   "execution_count": null,
   "id": "f4b61c44",
   "metadata": {},
   "outputs": [],
   "source": [
    "# movies gross\n",
    "bom_movies_gross.info()"
   ]
  },
  {
   "cell_type": "code",
   "execution_count": null,
   "id": "87588bf8",
   "metadata": {},
   "outputs": [],
   "source": [
    "bom_movies_gross.head()"
   ]
  },
  {
   "cell_type": "markdown",
   "id": "9bb9b6c1",
   "metadata": {},
   "source": [
    "---\n",
    "filling empty 'studio' values with 'Unknown'.\n",
    "\n",
    "i opted to use `0` in 'foreign_gross' rather than median as a large number of the column was empty and filling it with the median would result in inaccurate analysis.\n",
    "\n",
    "i did however use median in 'domestic_gross' as less than `1%` of the data was missing.\n",
    "\n",
    "---"
   ]
  },
  {
   "cell_type": "code",
   "execution_count": null,
   "id": "e8efa4ae",
   "metadata": {},
   "outputs": [],
   "source": [
    "# clean movies_gross\n",
    "bom_movies_gross['studio'] = bom_movies_gross['studio'].fillna('Unknown')\n",
    "\n",
    "# convert foreign gross to float\n",
    "bom_movies_gross['foreign_gross'] = bom_movies_gross['foreign_gross'].fillna(0)\n",
    "bom_movies_gross['foreign_gross'] = pd.to_numeric(bom_movies_gross['foreign_gross'], errors='coerce')\n",
    "\n",
    "median_domestic = bom_movies_gross['domestic_gross'].median()\n",
    "bom_movies_gross['domestic_gross'] = bom_movies_gross['domestic_gross'].fillna(median_domestic)\n",
    "\n",
    "bom_movies_gross.info()"
   ]
  },
  {
   "cell_type": "markdown",
   "id": "30fcec5f",
   "metadata": {},
   "source": [
    "## 4. Combining the cleaned dataframes"
   ]
  },
  {
   "cell_type": "markdown",
   "id": "e4e203bd",
   "metadata": {},
   "source": [
    "Now we can combine the best of three to start to analyse"
   ]
  },
  {
   "cell_type": "code",
   "execution_count": null,
   "id": "574a09a2",
   "metadata": {},
   "outputs": [],
   "source": [
    "joined_imdb = pd.merge(imdb_basics, imdb_ratings, on='movie_id', how='inner')"
   ]
  },
  {
   "cell_type": "code",
   "execution_count": null,
   "id": "024219bd",
   "metadata": {},
   "outputs": [],
   "source": [
    "joined_imdb.info()"
   ]
  },
  {
   "cell_type": "code",
   "execution_count": null,
   "id": "2f0d4d41",
   "metadata": {},
   "outputs": [],
   "source": [
    "movies = pd.merge(joined_imdb, bom_movies_gross, left_on='primary_title', right_on='title', how='inner')"
   ]
  },
  {
   "cell_type": "code",
   "execution_count": null,
   "id": "60e291b7",
   "metadata": {},
   "outputs": [],
   "source": [
    "movies.info()"
   ]
  },
  {
   "cell_type": "markdown",
   "id": "9a5eb0bf",
   "metadata": {},
   "source": [
    "# 2. Analysis\n",
    "\n",
    "Now that our data cleaned and organized, we can now analyse our data based on gross value and popularity:\n",
    "1. Most successful studios\n",
    "2. Most successful genres \n",
    "3. Trends overtime\n",
    "4. Runtime of succesful films"
   ]
  },
  {
   "cell_type": "code",
   "execution_count": null,
   "id": "31d77d3b",
   "metadata": {},
   "outputs": [],
   "source": [
    "movies.info()"
   ]
  },
  {
   "cell_type": "markdown",
   "id": "9d64c713",
   "metadata": {},
   "source": [
    "## 1. Most succesful studios"
   ]
  },
  {
   "cell_type": "markdown",
   "id": "0f3a5454",
   "metadata": {},
   "source": [
    "Why most successful studios? I presume that Microsoft would want to know who the big players in the industry are in order to know what they are up against and for them to use the data analysed as a benchmark of what is to be expected of a good studio."
   ]
  },
  {
   "cell_type": "code",
   "execution_count": null,
   "id": "71d8fb69",
   "metadata": {},
   "outputs": [],
   "source": [
    "studio_performance = movies.groupby('studio').agg(\n",
    "    total_films=('title', 'count'),\n",
    "    avg_domestic_gross=('domestic_gross', 'mean'),\n",
    "    avg_foreign_gross=('foreign_gross', 'mean'),\n",
    "    total_domestic_gross=('domestic_gross', 'sum'),\n",
    "    total_foreign_gross=('foreign_gross', 'sum')\n",
    ").sort_values(by='total_domestic_gross', ascending=False)"
   ]
  },
  {
   "cell_type": "code",
   "execution_count": null,
   "id": "a0d93b14",
   "metadata": {},
   "outputs": [],
   "source": [
    "top_studios = studio_performance.head(20)\n",
    "top_studios"
   ]
  },
  {
   "cell_type": "code",
   "execution_count": null,
   "id": "87037ca2",
   "metadata": {},
   "outputs": [],
   "source": [
    "studio_names = top_studios.index\n",
    "film_numbers = top_studios.total_films\n",
    "total_domestic_gross = top_studios.total_domestic_gross\n",
    "total_foreign_gross = top_studios.total_foreign_gross\n",
    "avg_domestic_gross = top_studios.avg_domestic_gross\n",
    "avg_foreign_gross = top_studios.avg_foreign_gross\n",
    "\n",
    "fig, ((domestic_total, foreign_total), (domestic_avg, foreign_avg)) = plt.subplots(figsize=(12, 10), nrows=2, ncols=2)\n",
    "\n",
    "# Set a title for the entire figure\n",
    "fig.suptitle('Analysis of Film Studio Performance', fontsize=16)\n",
    "\n",
    "# Plot for Total Domestic Gross vs. Number of Films\n",
    "domestic_total.scatter(x=film_numbers, y=total_domestic_gross)\n",
    "domestic_total.set_title('Total Domestic Gross vs. Number of Films')\n",
    "domestic_total.set_xlabel('Number of Films')\n",
    "domestic_total.set_ylabel('Total Domestic Gross')\n",
    "domestic_total.grid(True)\n",
    "\n",
    "# Plot for Total Foreign Gross vs. Number of Films\n",
    "foreign_total.scatter(x=film_numbers, y=total_foreign_gross)\n",
    "foreign_total.set_title('Total Foreign Gross vs. Number of Films')\n",
    "foreign_total.set_xlabel('Number of Films')\n",
    "foreign_total.set_ylabel('Total Foreign Gross')\n",
    "foreign_total.grid(True)\n",
    "\n",
    "# Plot for Average Domestic Gross vs. Number of Films\n",
    "domestic_avg.scatter(x=film_numbers, y=avg_domestic_gross)\n",
    "domestic_avg.set_title('Average Domestic Gross vs. Number of Films')\n",
    "domestic_avg.set_xlabel('Number of Films')\n",
    "domestic_avg.set_ylabel('Average Domestic Gross')\n",
    "domestic_avg.grid(True)\n",
    "\n",
    "# Plot for Average Foreign Gross vs. Number of Films\n",
    "foreign_avg.scatter(x=film_numbers, y=avg_foreign_gross)\n",
    "foreign_avg.set_title('Average Foreign Gross vs. Number of Films')\n",
    "foreign_avg.set_xlabel('Number of Films')\n",
    "foreign_avg.set_ylabel('Average Foreign Gross')\n",
    "foreign_avg.grid(True)\n",
    "\n",
    "# Improve layout to prevent titles from overlapping\n",
    "plt.tight_layout(rect=[0, 0, 1, 0.96]) "
   ]
  },
  {
   "cell_type": "code",
   "execution_count": null,
   "id": "7356d4f8",
   "metadata": {},
   "outputs": [],
   "source": [
    "# corelations:\n",
    "correlations = top_studios.corr()\n",
    "corr_total_domestic = correlations.loc['total_films', 'total_domestic_gross']\n",
    "corr_total_foreign = correlations.loc['total_films', 'total_foreign_gross']\n",
    "corr_avg_domestic = correlations.loc['total_films', 'avg_domestic_gross']\n",
    "corr_avg_foreign = correlations.loc['total_films', 'avg_foreign_gross']\n",
    "\n",
    "print(f\"Correlation between Total Films and Total Domestic Gross: {corr_total_domestic:.2f}\")\n",
    "print(f\"Correlation between Total Films and Total Foreign Gross: {corr_total_foreign:.2f}\")\n",
    "print(f\"Correlation between Total Films and Average Domestic Gross: {corr_avg_domestic:.2f}\")\n",
    "print(f\"Correlation between Total Films and Average Foreign Gross: {corr_avg_foreign:.2f}\")"
   ]
  },
  {
   "cell_type": "markdown",
   "id": "316aa13e",
   "metadata": {},
   "source": [
    "---\n",
    "with this we know now the correlation between number of films produced and gross \n",
    "\n",
    "---"
   ]
  },
  {
   "cell_type": "markdown",
   "id": "5fc8c253",
   "metadata": {},
   "source": [
    "## 2. Most successful genres"
   ]
  },
  {
   "cell_type": "markdown",
   "id": "4ddb4150",
   "metadata": {},
   "source": [
    "Goal of this section is to identify now which of the many genres out there Microsoft should start with. "
   ]
  },
  {
   "cell_type": "code",
   "execution_count": null,
   "id": "2949f4bb",
   "metadata": {},
   "outputs": [],
   "source": [
    "movies['total_gross'] = movies['domestic_gross'] + movies['foreign_gross']\n",
    "\n",
    "film_genres = movies.groupby('genres').agg(\n",
    "    avg_ratings=('averagerating', 'mean'),\n",
    "    avg_votes=('numvotes', 'mean'),\n",
    "    total_gross=('total_gross', 'sum')\n",
    ").sort_values(by='avg_votes', ascending=False)\n",
    "top_genres = film_genres.head(20)"
   ]
  },
  {
   "cell_type": "code",
   "execution_count": null,
   "id": "8582d5c9",
   "metadata": {},
   "outputs": [],
   "source": [
    "top_genres"
   ]
  },
  {
   "cell_type": "code",
   "execution_count": null,
   "id": "d2c44cf1",
   "metadata": {},
   "outputs": [],
   "source": [
    "fig, (ratings, votes, gross) = plt.subplots(figsize=(14, 12), ncols=3)\n",
    "\n",
    "ratings.bar(x=top_genres.index, height=top_genres['avg_ratings'])\n",
    "\n",
    "ratings.set_title('Average Ratings by Genre', fontsize=14)\n",
    "ratings.set_ylabel('Average Rating')\n",
    "ratings.set_xlabel('Genre')\n",
    "\n",
    "ratings.set_xticks(range(len(top_genres.index)))\n",
    "ratings.set_xticklabels(top_genres.index, rotation=90, ha='right')\n",
    "ratings.grid(axis='y')\n",
    "\n",
    "votes.bar(x=top_genres.index, height=top_genres['avg_votes'])\n",
    "\n",
    "votes.set_title('Average Votes by Genre', fontsize=14)\n",
    "votes.set_ylabel('Average Votes')\n",
    "votes.set_xlabel('Genre')\n",
    "\n",
    "votes.set_xticks(range(len(top_genres.index)))\n",
    "votes.set_xticklabels(top_genres.index, rotation=90, ha='right')\n",
    "votes.grid(axis='y')\n",
    "\n",
    "gross.bar(x=top_genres.index, height=top_genres['total_gross'])\n",
    "\n",
    "gross.set_title('Total Gross by Genre', fontsize=14)\n",
    "gross.set_ylabel('Total Gross')\n",
    "gross.set_xlabel('Genre')\n",
    "\n",
    "gross.set_xticks(range(len(top_genres.index)))\n",
    "gross.set_xticklabels(top_genres.index, rotation=90, ha='right')\n",
    "gross.grid(axis='y')\n",
    "\n",
    "fig.suptitle('Analysis of Most Popular Genres', fontsize=16);"
   ]
  },
  {
   "cell_type": "markdown",
   "id": "58259393",
   "metadata": {},
   "source": [
    "---\n",
    "Now with this chart they know where to start from and just how much they are expected to get in return\n",
    "\n",
    "---"
   ]
  },
  {
   "cell_type": "markdown",
   "id": "512b9838",
   "metadata": {
    "vscode": {
     "languageId": "html"
    }
   },
   "source": [
    "## 3. Trends over time"
   ]
  },
  {
   "cell_type": "markdown",
   "id": "569c9db8",
   "metadata": {},
   "source": [
    "Goal of this section is to know what is relevant in the current market of film"
   ]
  },
  {
   "cell_type": "code",
   "execution_count": null,
   "id": "76201f3e",
   "metadata": {},
   "outputs": [],
   "source": [
    "genre_trends = movies.groupby(['start_year', 'genres'])['total_gross'].sum()\n",
    "\n",
    "top_5_genres = movies.groupby('genres')['total_gross'].sum().nlargest(5).index\n",
    "# Filter the genre_trends Series to include only the top 5 genres\n",
    "filtered_trends = genre_trends.loc[:, top_5_genres]\n",
    "\n",
    "# Unstack the data to pivot the genres into columns for plotting\n",
    "plot_data = filtered_trends.unstack(level='genres').fillna(0)\n",
    "\n",
    "# Create the line plot\n",
    "plt.figure(figsize=(15, 8))\n",
    "for genre in top_5_genres:\n",
    "    plt.plot(plot_data.index, plot_data[genre], marker='o', label=genre)\n",
    "\n",
    "plt.title('Total Gross of Top 5 Genre Combinations Over the Years', fontsize=16)\n",
    "plt.xlabel('Year', fontsize=12)\n",
    "plt.ylabel('Total Gross (in billions)', fontsize=12)\n",
    "plt.xticks(plot_data.index)\n",
    "plt.legend(title='Genre Combination')\n",
    "plt.tight_layout()"
   ]
  },
  {
   "cell_type": "markdown",
   "id": "69c81421",
   "metadata": {},
   "source": [
    "---\n",
    "with this it is evident that they should focus more on adventure, action, animation and comedy side\n",
    "\n",
    "---"
   ]
  },
  {
   "cell_type": "markdown",
   "id": "3925cb77",
   "metadata": {},
   "source": [
    "## 4. Runtime of succesful films"
   ]
  },
  {
   "cell_type": "markdown",
   "id": "905b671d",
   "metadata": {},
   "source": [
    "Goal is to know how long a typical succesful film should be (in minutes)"
   ]
  },
  {
   "cell_type": "code",
   "execution_count": null,
   "id": "a514d6f5",
   "metadata": {},
   "outputs": [],
   "source": [
    "runtime_success = movies.groupby(['runtime_minutes', 'averagerating']).agg(\n",
    "    total_gross=('total_gross', 'sum')\n",
    ").sort_values(by='total_gross', ascending=False)"
   ]
  },
  {
   "cell_type": "code",
   "execution_count": null,
   "id": "2b28f3f6",
   "metadata": {},
   "outputs": [],
   "source": [
    "# Get top 50 profitable combinations\n",
    "top_50 = runtime_success.head(50)\n",
    "\n",
    "# Extract values\n",
    "runtimes = top_50.index.get_level_values('runtime_minutes')\n",
    "ratings = top_50.index.get_level_values('averagerating')\n",
    "grosses = top_50['total_gross'] / 1e6  \n",
    "\n",
    "plt.figure(figsize=(12, 7))\n",
    "scatter = plt.scatter(runtimes, ratings, s=grosses, alpha=0.6, c=grosses, cmap='viridis', edgecolor='black')\n",
    "\n",
    "plt.colorbar(scatter, label='Total Gross ($M)')\n",
    "plt.xlabel('Runtime (minutes)')\n",
    "plt.ylabel('Average IMDb Rating')\n",
    "plt.title('Total Gross by Movie Runtime and Rating')\n",
    "plt.grid(True)\n",
    "plt.tight_layout()\n",
    "plt.show()\n"
   ]
  },
  {
   "cell_type": "code",
   "execution_count": null,
   "id": "eba90ade",
   "metadata": {},
   "outputs": [],
   "source": [
    "print(\"Median Rating:\", np.median(ratings))\n",
    "print(\"Median Runtime:\", np.median(runtimes))\n",
    "print(\"Median Gross:\", np.median(grosses) * 1e6, \"\")"
   ]
  }
 ],
 "metadata": {
  "kernelspec": {
   "display_name": "Python 3 (ipykernel)",
   "language": "python",
   "name": "python3"
  },
  "language_info": {
   "codemirror_mode": {
    "name": "ipython",
    "version": 3
   },
   "file_extension": ".py",
   "mimetype": "text/x-python",
   "name": "python",
   "nbconvert_exporter": "python",
   "pygments_lexer": "ipython3",
   "version": "3.12.7"
  }
 },
 "nbformat": 4,
 "nbformat_minor": 5
}
